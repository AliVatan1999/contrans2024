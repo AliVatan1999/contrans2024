{
 "cells": [
  {
   "cell_type": "code",
   "execution_count": 1,
   "metadata": {},
   "outputs": [],
   "source": [
    "from contrans import contrans\n",
    "import numpy as np\n",
    "import pandas as pd\n",
    "import dotenv\n",
    "import os\n",
    "import json\n",
    "import requests \n",
    "import psycopg\n",
    "import sqlite3\n",
    "import plotly.express as px\n",
    "from sumy.parsers.plaintext import PlaintextParser\n",
    "from sumy.nlp.tokenizers import Tokenizer\n",
    "from sumy.summarizers.lsa import LsaSummarizer\n",
    "from sqlalchemy import create_engine    \n",
    "dotenv.load_dotenv()\n",
    "congresskey = os.getenv('congresskey')\n",
    "postgrespassword = os.getenv('POSTGRES_PASSWORD')\n",
    "\n",
    "dotenv.load_dotenv()\n",
    "congresskey = os.getenv('congresskey')"
   ]
  },
  {
   "cell_type": "code",
   "execution_count": 2,
   "metadata": {},
   "outputs": [
    {
     "data": {
      "text/plain": [
       "'CyuReUccxIprKWlFjMsqs8yrp7C7DNXUX3RZefy8'"
      ]
     },
     "execution_count": 2,
     "metadata": {},
     "output_type": "execute_result"
    }
   ],
   "source": [
    "ct = contrans()\n",
    "ct.congresskey"
   ]
  },
  {
   "cell_type": "code",
   "execution_count": 27,
   "metadata": {},
   "outputs": [],
   "source": [
    "servere , engine = ct.connect_to_postgres(postgrespassword)"
   ]
  },
  {
   "cell_type": "code",
   "execution_count": 34,
   "metadata": {},
   "outputs": [],
   "source": [
    "myquery = '''\n",
    "\n",
    "SELECT bioguideid, district, name, partyname, state, nominate_dim1\n",
    "FROM members\n",
    "\n",
    "'''\n",
    "\n",
    "ideo = pd.read_sql_query(myquery, con = engine)"
   ]
  }
 ],
 "metadata": {
  "kernelspec": {
   "display_name": "Python 3",
   "language": "python",
   "name": "python3"
  },
  "language_info": {
   "codemirror_mode": {
    "name": "ipython",
    "version": 3
   },
   "file_extension": ".py",
   "mimetype": "text/x-python",
   "name": "python",
   "nbconvert_exporter": "python",
   "pygments_lexer": "ipython3",
   "version": "3.11.5"
  }
 },
 "nbformat": 4,
 "nbformat_minor": 2
}
